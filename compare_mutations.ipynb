{
 "cells": [
  {
   "cell_type": "code",
   "execution_count": 1,
   "id": "5ab841fb-ca82-497d-b3c9-0fbdd3450d0d",
   "metadata": {},
   "outputs": [],
   "source": [
    "import numpy as np\n",
    "import pandas as pd\n",
    "import json"
   ]
  },
  {
   "cell_type": "code",
   "execution_count": 2,
   "id": "7d2e8f62-8b22-4f7f-bed3-95f6620538cd",
   "metadata": {},
   "outputs": [],
   "source": [
    "path_results = \"test_results/20A_20C_14Sept_CPU/\"\n",
    "\n",
    "def read_json(file_path):\n",
    "    with open(file_path) as file:\n",
    "        return json.loads(file.read())\n",
    "\n",
    "f_dict = read_json(path_results + \"f_word_dictionaries.json\")\n",
    "r_dict = read_json(path_results + \"r_word_dictionaries.json\")"
   ]
  },
  {
   "cell_type": "code",
   "execution_count": 3,
   "id": "0ac7e840-9cb3-461d-ae1f-79c7ad140081",
   "metadata": {},
   "outputs": [
    {
     "ename": "FileNotFoundError",
     "evalue": "[Errno 2] No such file or directory: 'test_results/20A_20C_14Sept_CPU/true_predicted_multiple_te_y.csv'",
     "output_type": "error",
     "traceback": [
      "\u001b[0;31m---------------------------------------------------------------------------\u001b[0m",
      "\u001b[0;31mFileNotFoundError\u001b[0m                         Traceback (most recent call last)",
      "\u001b[0;32m/tmp/ipykernel_17216/2954253085.py\u001b[0m in \u001b[0;36m<module>\u001b[0;34m\u001b[0m\n\u001b[0;32m----> 1\u001b[0;31m \u001b[0mpred_data\u001b[0m \u001b[0;34m=\u001b[0m \u001b[0mpd\u001b[0m\u001b[0;34m.\u001b[0m\u001b[0mread_csv\u001b[0m\u001b[0;34m(\u001b[0m\u001b[0mpath_results\u001b[0m \u001b[0;34m+\u001b[0m \u001b[0;34m\"true_predicted_multiple_te_y.csv\"\u001b[0m\u001b[0;34m,\u001b[0m \u001b[0msep\u001b[0m\u001b[0;34m=\u001b[0m\u001b[0;34m\",\"\u001b[0m\u001b[0;34m)\u001b[0m\u001b[0;34m\u001b[0m\u001b[0;34m\u001b[0m\u001b[0m\n\u001b[0m\u001b[1;32m      2\u001b[0m \u001b[0;34m\u001b[0m\u001b[0m\n\u001b[1;32m      3\u001b[0m \u001b[0msource\u001b[0m \u001b[0;34m=\u001b[0m \u001b[0mpred_data\u001b[0m\u001b[0;34m[\u001b[0m\u001b[0;34m\"20A\"\u001b[0m\u001b[0;34m]\u001b[0m\u001b[0;34m.\u001b[0m\u001b[0mtolist\u001b[0m\u001b[0;34m(\u001b[0m\u001b[0;34m)\u001b[0m\u001b[0;34m\u001b[0m\u001b[0;34m\u001b[0m\u001b[0m\n\u001b[1;32m      4\u001b[0m \u001b[0mchild\u001b[0m \u001b[0;34m=\u001b[0m \u001b[0mpred_data\u001b[0m\u001b[0;34m[\u001b[0m\u001b[0;34m\"20C\"\u001b[0m\u001b[0;34m]\u001b[0m\u001b[0;34m.\u001b[0m\u001b[0mtolist\u001b[0m\u001b[0;34m(\u001b[0m\u001b[0;34m)\u001b[0m\u001b[0;34m\u001b[0m\u001b[0;34m\u001b[0m\u001b[0m\n\u001b[1;32m      5\u001b[0m \u001b[0mgen\u001b[0m \u001b[0;34m=\u001b[0m \u001b[0mpred_data\u001b[0m\u001b[0;34m[\u001b[0m\u001b[0;34m\"Generated\"\u001b[0m\u001b[0;34m]\u001b[0m\u001b[0;34m.\u001b[0m\u001b[0mtolist\u001b[0m\u001b[0;34m(\u001b[0m\u001b[0;34m)\u001b[0m\u001b[0;34m\u001b[0m\u001b[0;34m\u001b[0m\u001b[0m\n",
      "\u001b[0;32m~/anaconda3/envs/clade_analysis/lib/python3.9/site-packages/pandas/util/_decorators.py\u001b[0m in \u001b[0;36mwrapper\u001b[0;34m(*args, **kwargs)\u001b[0m\n\u001b[1;32m    309\u001b[0m                     \u001b[0mstacklevel\u001b[0m\u001b[0;34m=\u001b[0m\u001b[0mstacklevel\u001b[0m\u001b[0;34m,\u001b[0m\u001b[0;34m\u001b[0m\u001b[0;34m\u001b[0m\u001b[0m\n\u001b[1;32m    310\u001b[0m                 )\n\u001b[0;32m--> 311\u001b[0;31m             \u001b[0;32mreturn\u001b[0m \u001b[0mfunc\u001b[0m\u001b[0;34m(\u001b[0m\u001b[0;34m*\u001b[0m\u001b[0margs\u001b[0m\u001b[0;34m,\u001b[0m \u001b[0;34m**\u001b[0m\u001b[0mkwargs\u001b[0m\u001b[0;34m)\u001b[0m\u001b[0;34m\u001b[0m\u001b[0;34m\u001b[0m\u001b[0m\n\u001b[0m\u001b[1;32m    312\u001b[0m \u001b[0;34m\u001b[0m\u001b[0m\n\u001b[1;32m    313\u001b[0m         \u001b[0;32mreturn\u001b[0m \u001b[0mwrapper\u001b[0m\u001b[0;34m\u001b[0m\u001b[0;34m\u001b[0m\u001b[0m\n",
      "\u001b[0;32m~/anaconda3/envs/clade_analysis/lib/python3.9/site-packages/pandas/io/parsers/readers.py\u001b[0m in \u001b[0;36mread_csv\u001b[0;34m(filepath_or_buffer, sep, delimiter, header, names, index_col, usecols, squeeze, prefix, mangle_dupe_cols, dtype, engine, converters, true_values, false_values, skipinitialspace, skiprows, skipfooter, nrows, na_values, keep_default_na, na_filter, verbose, skip_blank_lines, parse_dates, infer_datetime_format, keep_date_col, date_parser, dayfirst, cache_dates, iterator, chunksize, compression, thousands, decimal, lineterminator, quotechar, quoting, doublequote, escapechar, comment, encoding, encoding_errors, dialect, error_bad_lines, warn_bad_lines, on_bad_lines, delim_whitespace, low_memory, memory_map, float_precision, storage_options)\u001b[0m\n\u001b[1;32m    584\u001b[0m     \u001b[0mkwds\u001b[0m\u001b[0;34m.\u001b[0m\u001b[0mupdate\u001b[0m\u001b[0;34m(\u001b[0m\u001b[0mkwds_defaults\u001b[0m\u001b[0;34m)\u001b[0m\u001b[0;34m\u001b[0m\u001b[0;34m\u001b[0m\u001b[0m\n\u001b[1;32m    585\u001b[0m \u001b[0;34m\u001b[0m\u001b[0m\n\u001b[0;32m--> 586\u001b[0;31m     \u001b[0;32mreturn\u001b[0m \u001b[0m_read\u001b[0m\u001b[0;34m(\u001b[0m\u001b[0mfilepath_or_buffer\u001b[0m\u001b[0;34m,\u001b[0m \u001b[0mkwds\u001b[0m\u001b[0;34m)\u001b[0m\u001b[0;34m\u001b[0m\u001b[0;34m\u001b[0m\u001b[0m\n\u001b[0m\u001b[1;32m    587\u001b[0m \u001b[0;34m\u001b[0m\u001b[0m\n\u001b[1;32m    588\u001b[0m \u001b[0;34m\u001b[0m\u001b[0m\n",
      "\u001b[0;32m~/anaconda3/envs/clade_analysis/lib/python3.9/site-packages/pandas/io/parsers/readers.py\u001b[0m in \u001b[0;36m_read\u001b[0;34m(filepath_or_buffer, kwds)\u001b[0m\n\u001b[1;32m    480\u001b[0m \u001b[0;34m\u001b[0m\u001b[0m\n\u001b[1;32m    481\u001b[0m     \u001b[0;31m# Create the parser.\u001b[0m\u001b[0;34m\u001b[0m\u001b[0;34m\u001b[0m\u001b[0;34m\u001b[0m\u001b[0m\n\u001b[0;32m--> 482\u001b[0;31m     \u001b[0mparser\u001b[0m \u001b[0;34m=\u001b[0m \u001b[0mTextFileReader\u001b[0m\u001b[0;34m(\u001b[0m\u001b[0mfilepath_or_buffer\u001b[0m\u001b[0;34m,\u001b[0m \u001b[0;34m**\u001b[0m\u001b[0mkwds\u001b[0m\u001b[0;34m)\u001b[0m\u001b[0;34m\u001b[0m\u001b[0;34m\u001b[0m\u001b[0m\n\u001b[0m\u001b[1;32m    483\u001b[0m \u001b[0;34m\u001b[0m\u001b[0m\n\u001b[1;32m    484\u001b[0m     \u001b[0;32mif\u001b[0m \u001b[0mchunksize\u001b[0m \u001b[0;32mor\u001b[0m \u001b[0miterator\u001b[0m\u001b[0;34m:\u001b[0m\u001b[0;34m\u001b[0m\u001b[0;34m\u001b[0m\u001b[0m\n",
      "\u001b[0;32m~/anaconda3/envs/clade_analysis/lib/python3.9/site-packages/pandas/io/parsers/readers.py\u001b[0m in \u001b[0;36m__init__\u001b[0;34m(self, f, engine, **kwds)\u001b[0m\n\u001b[1;32m    809\u001b[0m             \u001b[0mself\u001b[0m\u001b[0;34m.\u001b[0m\u001b[0moptions\u001b[0m\u001b[0;34m[\u001b[0m\u001b[0;34m\"has_index_names\"\u001b[0m\u001b[0;34m]\u001b[0m \u001b[0;34m=\u001b[0m \u001b[0mkwds\u001b[0m\u001b[0;34m[\u001b[0m\u001b[0;34m\"has_index_names\"\u001b[0m\u001b[0;34m]\u001b[0m\u001b[0;34m\u001b[0m\u001b[0;34m\u001b[0m\u001b[0m\n\u001b[1;32m    810\u001b[0m \u001b[0;34m\u001b[0m\u001b[0m\n\u001b[0;32m--> 811\u001b[0;31m         \u001b[0mself\u001b[0m\u001b[0;34m.\u001b[0m\u001b[0m_engine\u001b[0m \u001b[0;34m=\u001b[0m \u001b[0mself\u001b[0m\u001b[0;34m.\u001b[0m\u001b[0m_make_engine\u001b[0m\u001b[0;34m(\u001b[0m\u001b[0mself\u001b[0m\u001b[0;34m.\u001b[0m\u001b[0mengine\u001b[0m\u001b[0;34m)\u001b[0m\u001b[0;34m\u001b[0m\u001b[0;34m\u001b[0m\u001b[0m\n\u001b[0m\u001b[1;32m    812\u001b[0m \u001b[0;34m\u001b[0m\u001b[0m\n\u001b[1;32m    813\u001b[0m     \u001b[0;32mdef\u001b[0m \u001b[0mclose\u001b[0m\u001b[0;34m(\u001b[0m\u001b[0mself\u001b[0m\u001b[0;34m)\u001b[0m\u001b[0;34m:\u001b[0m\u001b[0;34m\u001b[0m\u001b[0;34m\u001b[0m\u001b[0m\n",
      "\u001b[0;32m~/anaconda3/envs/clade_analysis/lib/python3.9/site-packages/pandas/io/parsers/readers.py\u001b[0m in \u001b[0;36m_make_engine\u001b[0;34m(self, engine)\u001b[0m\n\u001b[1;32m   1038\u001b[0m             )\n\u001b[1;32m   1039\u001b[0m         \u001b[0;31m# error: Too many arguments for \"ParserBase\"\u001b[0m\u001b[0;34m\u001b[0m\u001b[0;34m\u001b[0m\u001b[0;34m\u001b[0m\u001b[0m\n\u001b[0;32m-> 1040\u001b[0;31m         \u001b[0;32mreturn\u001b[0m \u001b[0mmapping\u001b[0m\u001b[0;34m[\u001b[0m\u001b[0mengine\u001b[0m\u001b[0;34m]\u001b[0m\u001b[0;34m(\u001b[0m\u001b[0mself\u001b[0m\u001b[0;34m.\u001b[0m\u001b[0mf\u001b[0m\u001b[0;34m,\u001b[0m \u001b[0;34m**\u001b[0m\u001b[0mself\u001b[0m\u001b[0;34m.\u001b[0m\u001b[0moptions\u001b[0m\u001b[0;34m)\u001b[0m  \u001b[0;31m# type: ignore[call-arg]\u001b[0m\u001b[0;34m\u001b[0m\u001b[0;34m\u001b[0m\u001b[0m\n\u001b[0m\u001b[1;32m   1041\u001b[0m \u001b[0;34m\u001b[0m\u001b[0m\n\u001b[1;32m   1042\u001b[0m     \u001b[0;32mdef\u001b[0m \u001b[0m_failover_to_python\u001b[0m\u001b[0;34m(\u001b[0m\u001b[0mself\u001b[0m\u001b[0;34m)\u001b[0m\u001b[0;34m:\u001b[0m\u001b[0;34m\u001b[0m\u001b[0;34m\u001b[0m\u001b[0m\n",
      "\u001b[0;32m~/anaconda3/envs/clade_analysis/lib/python3.9/site-packages/pandas/io/parsers/c_parser_wrapper.py\u001b[0m in \u001b[0;36m__init__\u001b[0;34m(self, src, **kwds)\u001b[0m\n\u001b[1;32m     49\u001b[0m \u001b[0;34m\u001b[0m\u001b[0m\n\u001b[1;32m     50\u001b[0m         \u001b[0;31m# open handles\u001b[0m\u001b[0;34m\u001b[0m\u001b[0;34m\u001b[0m\u001b[0;34m\u001b[0m\u001b[0m\n\u001b[0;32m---> 51\u001b[0;31m         \u001b[0mself\u001b[0m\u001b[0;34m.\u001b[0m\u001b[0m_open_handles\u001b[0m\u001b[0;34m(\u001b[0m\u001b[0msrc\u001b[0m\u001b[0;34m,\u001b[0m \u001b[0mkwds\u001b[0m\u001b[0;34m)\u001b[0m\u001b[0;34m\u001b[0m\u001b[0;34m\u001b[0m\u001b[0m\n\u001b[0m\u001b[1;32m     52\u001b[0m         \u001b[0;32massert\u001b[0m \u001b[0mself\u001b[0m\u001b[0;34m.\u001b[0m\u001b[0mhandles\u001b[0m \u001b[0;32mis\u001b[0m \u001b[0;32mnot\u001b[0m \u001b[0;32mNone\u001b[0m\u001b[0;34m\u001b[0m\u001b[0;34m\u001b[0m\u001b[0m\n\u001b[1;32m     53\u001b[0m \u001b[0;34m\u001b[0m\u001b[0m\n",
      "\u001b[0;32m~/anaconda3/envs/clade_analysis/lib/python3.9/site-packages/pandas/io/parsers/base_parser.py\u001b[0m in \u001b[0;36m_open_handles\u001b[0;34m(self, src, kwds)\u001b[0m\n\u001b[1;32m    220\u001b[0m         \u001b[0mLet\u001b[0m \u001b[0mthe\u001b[0m \u001b[0mreaders\u001b[0m \u001b[0mopen\u001b[0m \u001b[0mIOHandles\u001b[0m \u001b[0mafter\u001b[0m \u001b[0mthey\u001b[0m \u001b[0mare\u001b[0m \u001b[0mdone\u001b[0m \u001b[0;32mwith\u001b[0m \u001b[0mtheir\u001b[0m \u001b[0mpotential\u001b[0m \u001b[0mraises\u001b[0m\u001b[0;34m.\u001b[0m\u001b[0;34m\u001b[0m\u001b[0;34m\u001b[0m\u001b[0m\n\u001b[1;32m    221\u001b[0m         \"\"\"\n\u001b[0;32m--> 222\u001b[0;31m         self.handles = get_handle(\n\u001b[0m\u001b[1;32m    223\u001b[0m             \u001b[0msrc\u001b[0m\u001b[0;34m,\u001b[0m\u001b[0;34m\u001b[0m\u001b[0;34m\u001b[0m\u001b[0m\n\u001b[1;32m    224\u001b[0m             \u001b[0;34m\"r\"\u001b[0m\u001b[0;34m,\u001b[0m\u001b[0;34m\u001b[0m\u001b[0;34m\u001b[0m\u001b[0m\n",
      "\u001b[0;32m~/anaconda3/envs/clade_analysis/lib/python3.9/site-packages/pandas/io/common.py\u001b[0m in \u001b[0;36mget_handle\u001b[0;34m(path_or_buf, mode, encoding, compression, memory_map, is_text, errors, storage_options)\u001b[0m\n\u001b[1;32m    699\u001b[0m         \u001b[0;32mif\u001b[0m \u001b[0mioargs\u001b[0m\u001b[0;34m.\u001b[0m\u001b[0mencoding\u001b[0m \u001b[0;32mand\u001b[0m \u001b[0;34m\"b\"\u001b[0m \u001b[0;32mnot\u001b[0m \u001b[0;32min\u001b[0m \u001b[0mioargs\u001b[0m\u001b[0;34m.\u001b[0m\u001b[0mmode\u001b[0m\u001b[0;34m:\u001b[0m\u001b[0;34m\u001b[0m\u001b[0;34m\u001b[0m\u001b[0m\n\u001b[1;32m    700\u001b[0m             \u001b[0;31m# Encoding\u001b[0m\u001b[0;34m\u001b[0m\u001b[0;34m\u001b[0m\u001b[0;34m\u001b[0m\u001b[0m\n\u001b[0;32m--> 701\u001b[0;31m             handle = open(\n\u001b[0m\u001b[1;32m    702\u001b[0m                 \u001b[0mhandle\u001b[0m\u001b[0;34m,\u001b[0m\u001b[0;34m\u001b[0m\u001b[0;34m\u001b[0m\u001b[0m\n\u001b[1;32m    703\u001b[0m                 \u001b[0mioargs\u001b[0m\u001b[0;34m.\u001b[0m\u001b[0mmode\u001b[0m\u001b[0;34m,\u001b[0m\u001b[0;34m\u001b[0m\u001b[0;34m\u001b[0m\u001b[0m\n",
      "\u001b[0;31mFileNotFoundError\u001b[0m: [Errno 2] No such file or directory: 'test_results/20A_20C_14Sept_CPU/true_predicted_multiple_te_y.csv'"
     ]
    }
   ],
   "source": [
    "pred_data = pd.read_csv(path_results + \"true_predicted_multiple_te_y.csv\", sep=\",\")\n",
    "\n",
    "source = pred_data[\"20A\"].tolist()\n",
    "child = pred_data[\"20C\"].tolist()\n",
    "gen = pred_data[\"Generated\"].tolist()"
   ]
  },
  {
   "cell_type": "code",
   "execution_count": 27,
   "id": "84f50401-f2bc-4ca8-87c3-6731ef4661d7",
   "metadata": {},
   "outputs": [
    {
     "name": "stdout",
     "output_type": "stream",
     "text": [
      "['I>676>T', 'F>6>V', 'D>1163>Y', 'E>1111>K', 'M>153>I', 'Q>677>H', 'P>1162>S', 'T>20>I', 'Q>675>H', 'S>261>G', 'D>215>H', 'K>346>R', 'M>731>I', 'S>477>N', 'I>20>T', 'A>704>S', 'R>66>H', 'S>1078>A', 'Y>138>D', 'S>27>A', 'I>68>T', 'A>570>V', 'L>5>F', 'H>251>P', 'K>478>T', 'F>157>L', 'N>501>T', 'A>222>V', 'V>281>E', 'F>865>L', 'A>522>V', 'H>681>R', 'I>76>T', 'H>681>P', 'A>626>S', 'I>572>T', 'L>54>F', 'E>654>Q', 'S>575>A', 'I>153>M', 'S>879>A', 'Q>954>K', 'F>18>L', 'V>407>I', 'L>1063>F', 'N>477>S', 'T>95>I', 'S>67>A', 'V>1078>A', 'I>33>T', 'N>558>K', 'G>75>D', 'H>1101>Y', 'S>701>A', 'G>1251>V', 'P>681>H', 'D>253>G', 'T>572>I', 'K>439>N', 'V>308>L', 'L>1162>P', 'I>19>T', 'V>769>G', 'P>681>R', 'T>478>K', 'I>716>T', 'R>102>S', 'L>227>V', 'F>98>S', 'S>771>A', 'A>1020>V', 'S>477>I', 'N>1187>Y', 'L>452>R', 'Q>1111>E', 'S>297>T', 'T>716>I', 'S>459>F', 'I>95>T', 'D>936>Y', 'N>501>Y', 'V>1122>L', 'V>1228>L', 'S>494>P', 'V>976>I', 'W>152>R', 'Q>779>L', 'T>259>I', 'S>348>A', 'H>675>Q', 'R>681>P', 'T>210>I', 'N>439>K', 'V>701>A', 'R>1201>Q', 'H>677>Q']\n",
      "--------\n",
      "['I>676>T', 'F>6>V', 'I>76>T', 'K>439>N', 'H>681>P', 'I>572>T', 'L>1162>P', 'S>575>A', 'I>153>M', 'S>879>A', 'I>19>T', 'F>18>L', 'V>769>G', 'S>261>G', 'K>346>R', 'I>716>T', 'L>227>V', 'S>348>A', 'I>20>T', 'A>704>S', 'H>675>Q', 'N>477>S', 'R>66>H', 'S>1078>A', 'S>67>A', 'F>98>S', 'R>681>P', 'S>771>A', 'T>210>I', 'V>1078>A', 'I>33>T', 'Y>138>D', 'S>27>A', 'Q>1111>E', 'V>701>A', 'N>558>K', 'H>251>P', 'K>478>T', 'S>701>A', 'V>281>E', 'R>1201>Q', 'H>677>Q', 'F>865>L', 'I>95>T']\n",
      "--------\n",
      "['I>407>V', 'K>439>N', 'V>1251>G', 'H>681>P', 'I>572>T', 'F>5>L', 'I>153>M', 'I>477>S', 'L>779>Q', 'F>1063>L', 'V>570>A', 'T>68>I', 'K>1111>E', 'V>1020>A', 'R>152>W', 'I>716>T', 'S>626>A', 'Y>1101>H', 'I>20>T', 'G>253>D', 'F>54>L', 'Y>936>D', 'N>477>S', 'H>675>Q', 'L>157>F', 'L>1122>V', 'R>681>P', 'P>494>S', 'Q>654>E', 'T>297>S', 'S>1162>P', 'S>102>R', 'L>1228>V', 'F>459>S', 'T>501>N', 'L>308>V', 'K>954>Q', 'V>222>A', 'K>478>T', 'R>452>L', 'Y>501>N', 'I>976>V', 'Y>1187>N', 'D>75>G', 'H>677>Q', 'I>731>M', 'H>215>D', 'I>95>T', 'Y>1163>D', 'V>522>A', 'I>259>T']\n"
     ]
    }
   ],
   "source": [
    "def find_mut_pos(in_seq, out_seq):\n",
    "    mut_list = list()\n",
    "    for idx, (x, y) in enumerate(zip(in_seq, out_seq)):\n",
    "        for index, (i, j) in enumerate(zip(x.split(\",\"), y.split(\",\"))):\n",
    "            if i != j:\n",
    "                #print(idx, f_dict[str(i)], f_dict[str(j)], index+1)\n",
    "                mut_list.append(\"{}>{}>{}\".format(f_dict[str(i)], str(index+1), f_dict[str(j)]))\n",
    "    return mut_list\n",
    "\n",
    "\n",
    "source_child_mut = find_mut_pos(source, child)\n",
    "#print(source_child_mut)\n",
    "print(list(set(source_child_mut)))\n",
    "print(\"--------\")\n",
    "source_gen_mut = find_mut_pos(source, gen)\n",
    "#print(source_gen_mut)\n",
    "print(list(set(source_gen_mut)))\n",
    "print(\"--------\")\n",
    "child_gen_mut = find_mut_pos(child, gen)\n",
    "print(list(set(child_gen_mut)))"
   ]
  },
  {
   "cell_type": "code",
   "execution_count": 7,
   "id": "6cd07ccd-f0b7-447d-8a6f-f44acd6d95ce",
   "metadata": {},
   "outputs": [
    {
     "data": {
      "text/plain": [
       "{'1': 'Q',\n",
       " '2': 'N',\n",
       " '3': 'K',\n",
       " '4': 'W',\n",
       " '5': 'F',\n",
       " '6': 'P',\n",
       " '7': 'Y',\n",
       " '8': 'L',\n",
       " '9': 'M',\n",
       " '10': 'T',\n",
       " '11': 'E',\n",
       " '12': 'I',\n",
       " '13': 'A',\n",
       " '14': 'R',\n",
       " '15': 'G',\n",
       " '16': 'H',\n",
       " '17': 'S',\n",
       " '18': 'D',\n",
       " '19': 'V',\n",
       " '20': 'C'}"
      ]
     },
     "execution_count": 7,
     "metadata": {},
     "output_type": "execute_result"
    }
   ],
   "source": [
    "f_dict"
   ]
  },
  {
   "cell_type": "code",
   "execution_count": 4,
   "id": "dbbb8a53-96df-454c-bca9-1b99bba90051",
   "metadata": {},
   "outputs": [
    {
     "data": {
      "text/plain": [
       "['I>T',\n",
       " 'V>A',\n",
       " 'S>A',\n",
       " 'N>K',\n",
       " 'T>I',\n",
       " 'H>P',\n",
       " 'V>G',\n",
       " 'F>S',\n",
       " 'V>E',\n",
       " 'F>L',\n",
       " 'A>S',\n",
       " 'L>P',\n",
       " 'S>G',\n",
       " 'R>Q',\n",
       " 'H>Q',\n",
       " 'R>P',\n",
       " 'R>H',\n",
       " 'F>V',\n",
       " 'Q>E',\n",
       " 'Y>D',\n",
       " 'N>S',\n",
       " 'I>M']"
      ]
     },
     "execution_count": 4,
     "metadata": {},
     "output_type": "execute_result"
    }
   ],
   "source": [
    "results_path = \"test_results/20A_20C_14Sept_CPU/\"\n",
    "sub_path = \"20C_21F_Iota/\"\n",
    "\n",
    "mut_20A_20C = read_json(results_path + \"common_mutations_tr_child_gen.json\")\n",
    "mut_20A_20C"
   ]
  },
  {
   "cell_type": "code",
   "execution_count": 22,
   "id": "86d5395e-2784-4df1-8b84-5ddb03e627cf",
   "metadata": {},
   "outputs": [
    {
     "data": {
      "text/plain": [
       "(33,\n",
       " ['L>F',\n",
       "  'T>I',\n",
       "  'D>G',\n",
       "  'K>N',\n",
       "  'R>P',\n",
       "  'V>G',\n",
       "  'N>S',\n",
       "  'I>T',\n",
       "  'V>A',\n",
       "  'Y>D',\n",
       "  'P>S',\n",
       "  'Y>N',\n",
       "  'H>P',\n",
       "  'L>V',\n",
       "  'H>Q',\n",
       "  'F>L',\n",
       "  'K>T',\n",
       "  'I>V',\n",
       "  'R>W',\n",
       "  'I>M',\n",
       "  'S>A',\n",
       "  'F>S',\n",
       "  'Q>E',\n",
       "  'S>R',\n",
       "  'K>Q',\n",
       "  'Y>H',\n",
       "  'R>L',\n",
       "  'T>N',\n",
       "  'T>S',\n",
       "  'H>D',\n",
       "  'L>Q',\n",
       "  'S>P',\n",
       "  'I>S'])"
      ]
     },
     "execution_count": 22,
     "metadata": {},
     "output_type": "execute_result"
    }
   ],
   "source": [
    "# Iota variant defining mut: L5F, T95I, D253G, E484K, D614G and A701V\n",
    "mut_20C_21F_Iota = read_json(results_path + \"20C_21F_Iota/\" + \"common_mutations_tr_child_gen.json\")\n",
    "len(mut_20C_21F_Iota), mut_20C_21F_Iota"
   ]
  },
  {
   "cell_type": "code",
   "execution_count": 10,
   "id": "eaa97357-2556-4bf4-be41-467c0b16b8ce",
   "metadata": {},
   "outputs": [],
   "source": [
    "#common_iota = list(set(mut_20A_20C).difference(set(mut_20C_21F_Iota)))\n",
    "#common_iota"
   ]
  },
  {
   "cell_type": "code",
   "execution_count": 23,
   "id": "cfe373bc-15c9-4de4-b71a-27a03bda4118",
   "metadata": {},
   "outputs": [
    {
     "data": {
      "text/plain": [
       "(38,\n",
       " ['S>I',\n",
       "  'L>R',\n",
       "  'P>S',\n",
       "  'E>D',\n",
       "  'K>N',\n",
       "  'R>P',\n",
       "  'D>H',\n",
       "  'N>S',\n",
       "  'V>G',\n",
       "  'I>T',\n",
       "  'F>L',\n",
       "  'V>A',\n",
       "  'Y>D',\n",
       "  'L>V',\n",
       "  'H>Q',\n",
       "  'H>P',\n",
       "  'Y>N',\n",
       "  'I>V',\n",
       "  'K>E',\n",
       "  'G>D',\n",
       "  'I>M',\n",
       "  'K>T',\n",
       "  'Q>E',\n",
       "  'Y>H',\n",
       "  'T>S',\n",
       "  'G>R',\n",
       "  'T>N',\n",
       "  'D>G',\n",
       "  'S>R',\n",
       "  'L>F',\n",
       "  'S>P',\n",
       "  'I>S',\n",
       "  'F>S',\n",
       "  'K>Q',\n",
       "  'S>A',\n",
       "  'H>D',\n",
       "  'L>Q',\n",
       "  'T>I'])"
      ]
     },
     "execution_count": 23,
     "metadata": {},
     "output_type": "execute_result"
    }
   ],
   "source": [
    "# Epsilon S13I, W152C, L452R\n",
    "mut_20C_21C_Epsilon = read_json(results_path + \"20C_21C_Epsilon/\" + \"common_mutations_tr_child_gen.json\")\n",
    "len(mut_20C_21C_Epsilon), mut_20C_21C_Epsilon"
   ]
  },
  {
   "cell_type": "code",
   "execution_count": 19,
   "id": "21612f26-55bd-4f54-88aa-246e9965a067",
   "metadata": {},
   "outputs": [],
   "source": [
    "#common_epsilon_iota = list(set(mut_20C_21F_Iota).intersection(set(mut_20C_21C_Epsilon)))\n",
    "#common_epsilon_iota"
   ]
  },
  {
   "cell_type": "code",
   "execution_count": 20,
   "id": "0468d1bb-2c21-4162-8ebb-0ded76c1fa5c",
   "metadata": {},
   "outputs": [
    {
     "data": {
      "text/plain": [
       "['K>N',\n",
       " 'R>P',\n",
       " 'N>S',\n",
       " 'V>G',\n",
       " 'I>T',\n",
       " 'G>R',\n",
       " 'F>L',\n",
       " 'V>A',\n",
       " 'Y>D',\n",
       " 'L>V',\n",
       " 'P>S',\n",
       " 'Y>N',\n",
       " 'H>P',\n",
       " 'H>Q',\n",
       " 'K>E',\n",
       " 'I>V',\n",
       " 'G>D',\n",
       " 'R>W',\n",
       " 'K>T',\n",
       " 'I>M',\n",
       " 'Q>E',\n",
       " 'H>D',\n",
       " 'Y>H',\n",
       " 'S>P',\n",
       " 'L>Q',\n",
       " 'I>S',\n",
       " 'T>I',\n",
       " 'F>S',\n",
       " 'K>Q',\n",
       " 'D>G',\n",
       " 'S>R',\n",
       " 'R>L',\n",
       " 'S>A',\n",
       " 'T>N',\n",
       " 'T>S',\n",
       " 'L>F']"
      ]
     },
     "execution_count": 20,
     "metadata": {},
     "output_type": "execute_result"
    }
   ],
   "source": [
    "# 20G Q677P\n",
    "mut_20C_20G = read_json(results_path + \"20C_20G/\" + \"common_mutations_tr_child_gen.json\")\n",
    "mut_20C_20G\n",
    "# https://www.medrxiv.org/content/10.1101/2021.02.12.21251658v1.full.pdf"
   ]
  },
  {
   "cell_type": "code",
   "execution_count": 24,
   "id": "7341d965-cf40-4295-b4b9-1f0d4a550272",
   "metadata": {},
   "outputs": [
    {
     "data": {
      "text/plain": [
       "{'D>G',\n",
       " 'D>H',\n",
       " 'E>D',\n",
       " 'F>L',\n",
       " 'F>S',\n",
       " 'G>D',\n",
       " 'G>R',\n",
       " 'H>D',\n",
       " 'H>P',\n",
       " 'H>Q',\n",
       " 'I>M',\n",
       " 'I>S',\n",
       " 'I>T',\n",
       " 'I>V',\n",
       " 'K>E',\n",
       " 'K>N',\n",
       " 'K>Q',\n",
       " 'K>T',\n",
       " 'L>F',\n",
       " 'L>Q',\n",
       " 'L>R',\n",
       " 'L>V',\n",
       " 'N>S',\n",
       " 'P>S',\n",
       " 'Q>E',\n",
       " 'R>L',\n",
       " 'R>P',\n",
       " 'R>W',\n",
       " 'S>A',\n",
       " 'S>I',\n",
       " 'S>P',\n",
       " 'S>R',\n",
       " 'T>I',\n",
       " 'T>N',\n",
       " 'T>S',\n",
       " 'V>A',\n",
       " 'V>G',\n",
       " 'Y>D',\n",
       " 'Y>H',\n",
       " 'Y>N'}"
      ]
     },
     "execution_count": 24,
     "metadata": {},
     "output_type": "execute_result"
    }
   ],
   "source": [
    "# Mut from 20C = S13I, W152C, L452R | L5F, T95I, D253G, E484K, D614G and A701V |  Q677P\n",
    "\n",
    "# Present = (Epsilon: S>I, L>R ), (Iota: L>F, T>I, D>G)\n",
    "\n",
    "# Mut from 20A-20C = 'I>T','V>A','S>A','N>K','T>I','H>P','V>G','F>S','V>E','F>L','A>S','L>P','S>G','R>Q','H>Q','R>P','R>H','F>V','Q>E','Y>D','N>S','I>M'\n",
    "union_mut_20C = set(mut_20C_21C_Epsilon).union(set(mut_20C_21F_Iota)).union(set(mut_20C_20G))\n",
    "union_mut_20C"
   ]
  },
  {
   "cell_type": "code",
   "execution_count": null,
   "id": "67507556-9717-4e0c-82d3-8e3fb148abeb",
   "metadata": {},
   "outputs": [],
   "source": []
  }
 ],
 "metadata": {
  "kernelspec": {
   "display_name": "Python 3 (ipykernel)",
   "language": "python",
   "name": "python3"
  },
  "language_info": {
   "codemirror_mode": {
    "name": "ipython",
    "version": 3
   },
   "file_extension": ".py",
   "mimetype": "text/x-python",
   "name": "python",
   "nbconvert_exporter": "python",
   "pygments_lexer": "ipython3",
   "version": "3.9.6"
  }
 },
 "nbformat": 4,
 "nbformat_minor": 5
}
